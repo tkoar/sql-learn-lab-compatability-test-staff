{
 "cells": [
  {
   "cell_type": "markdown",
   "metadata": {},
   "source": [
    "# W.I.P. Learn/SQL QA"
   ]
  },
  {
   "cell_type": "code",
   "execution_count": null,
   "metadata": {},
   "outputs": [],
   "source": [
    "# import sqlite3\n",
    "# connection = sqlite3.connect('sports.db')\n",
    "# cursor = connection.cursor()\n",
    "# ---- or just the following: ----\n",
    "# import connection, cursor from sql_runner"
   ]
  },
  {
   "cell_type": "code",
   "execution_count": null,
   "metadata": {},
   "outputs": [],
   "source": [
    "# file = open('insert.sql')\n",
    "# sql = file.read()\n",
    "# cursor.executescript(sql)"
   ]
  },
  {
   "cell_type": "code",
   "execution_count": null,
   "metadata": {},
   "outputs": [],
   "source": [
    "# add in 2 records to the leagues table\n",
    "# ----- run this: -----\n",
    "# file = open('insert_leagues.sql')\n",
    "# sql = file.read()\n",
    "# cursor.executescript(sql)\n",
    "# ----- OR this: -----\n",
    "# cursor.executescript('''INSERT INTO leagues (name) VALUES (\"NHL\"), (\"NBA\");''')"
   ]
  }
 ],
 "metadata": {
  "kernelspec": {
   "display_name": "Python 3",
   "language": "python",
   "name": "python3"
  },
  "language_info": {
   "codemirror_mode": {
    "name": "ipython",
    "version": 3
   },
   "file_extension": ".py",
   "mimetype": "text/x-python",
   "name": "python",
   "nbconvert_exporter": "python",
   "pygments_lexer": "ipython3",
   "version": "3.6.4"
  }
 },
 "nbformat": 4,
 "nbformat_minor": 2
}
